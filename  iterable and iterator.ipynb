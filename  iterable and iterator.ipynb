{
 "cells": [
  {
   "cell_type": "markdown",
   "id": "3c90a86d",
   "metadata": {},
   "source": [
    "# Lists, tuples, dictionaries, and sets are all iterable objects."
   ]
  },
  {
   "cell_type": "markdown",
   "id": "2f95a0e7",
   "metadata": {},
   "source": [
    "# if we have large values in list and if we need to perform any operation we cannot allocate memory to every value so we use iterators"
   ]
  },
  {
   "cell_type": "raw",
   "id": "d09d2f3a",
   "metadata": {},
   "source": [
    "# TO convert these iterable functions to iteratoes we use iter()"
   ]
  },
  {
   "cell_type": "code",
   "execution_count": 4,
   "id": "03dc45e2",
   "metadata": {},
   "outputs": [],
   "source": [
    "lst=[1,2,3,4,5,6,7]"
   ]
  },
  {
   "cell_type": "code",
   "execution_count": 5,
   "id": "32510b47",
   "metadata": {},
   "outputs": [
    {
     "name": "stdout",
     "output_type": "stream",
     "text": [
      "[1, 2, 3, 4, 5, 6, 7]\n"
     ]
    }
   ],
   "source": [
    "print(lst)"
   ]
  },
  {
   "cell_type": "code",
   "execution_count": 6,
   "id": "02e5cda0",
   "metadata": {},
   "outputs": [],
   "source": [
    "lst_1=iter(lst) # CONVERTING TO ITERATORS BECAUSE IT DOES NOT LOCATE MEMORY TO LIST. # IF LOCATERS MEMORY TO LIST ONLY FOR SINGLE VALUE WHEN USE USE NEXT() "
   ]
  },
  {
   "cell_type": "code",
   "execution_count": 7,
   "id": "9a4942f9",
   "metadata": {},
   "outputs": [
    {
     "name": "stdout",
     "output_type": "stream",
     "text": [
      "<list_iterator object at 0x00000283D7EB5970>\n"
     ]
    }
   ],
   "source": [
    "print(lst_1) #here it is not printing because lst_1 doesnot take Or locate memory"
   ]
  },
  {
   "cell_type": "code",
   "execution_count": 8,
   "id": "79f2e237",
   "metadata": {},
   "outputs": [
    {
     "data": {
      "text/plain": [
       "1"
      ]
     },
     "execution_count": 8,
     "metadata": {},
     "output_type": "execute_result"
    }
   ],
   "source": [
    "next(lst_1)"
   ]
  },
  {
   "cell_type": "code",
   "execution_count": 9,
   "id": "2af07931",
   "metadata": {},
   "outputs": [
    {
     "data": {
      "text/plain": [
       "2"
      ]
     },
     "execution_count": 9,
     "metadata": {},
     "output_type": "execute_result"
    }
   ],
   "source": [
    "next(lst_1)"
   ]
  },
  {
   "cell_type": "code",
   "execution_count": 13,
   "id": "420daef5",
   "metadata": {},
   "outputs": [
    {
     "data": {
      "text/plain": [
       "4"
      ]
     },
     "execution_count": 13,
     "metadata": {},
     "output_type": "execute_result"
    }
   ],
   "source": [
    "next(lst_1) # WHEN WE PERFORM LST_1 IT JUST TAKING ONLY ONE VALUE"
   ]
  },
  {
   "cell_type": "code",
   "execution_count": 15,
   "id": "27687eac",
   "metadata": {},
   "outputs": [
    {
     "name": "stdout",
     "output_type": "stream",
     "text": [
      "5\n",
      "6\n",
      "7\n"
     ]
    }
   ],
   "source": [
    "for i in lst_1:\n",
    "    print(i)   # SEE WE ONLY GET AFTER 4 VALUES BECAUSE NEXT FUNCTION PERFORMED. that next taking one value at the time and going to next"
   ]
  },
  {
   "cell_type": "code",
   "execution_count": 17,
   "id": "02a382d2",
   "metadata": {},
   "outputs": [
    {
     "name": "stdout",
     "output_type": "stream",
     "text": [
      "apple\n"
     ]
    }
   ],
   "source": [
    "mytuple = (\"apple\", \"banana\", \"cherry\")\n",
    "myit = iter(mytuple)\n",
    "\n",
    "print(next(myit)) # ONLY TAKES APPLE"
   ]
  },
  {
   "cell_type": "code",
   "execution_count": 18,
   "id": "b71f94ec",
   "metadata": {},
   "outputs": [
    {
     "name": "stdout",
     "output_type": "stream",
     "text": [
      "banana\n"
     ]
    }
   ],
   "source": [
    "print(next(myit)) # WE GOT NEXT VALUE"
   ]
  },
  {
   "cell_type": "code",
   "execution_count": 24,
   "id": "b45a7cdd",
   "metadata": {},
   "outputs": [
    {
     "name": "stdout",
     "output_type": "stream",
     "text": [
      "b\n",
      "a\n",
      "n\n",
      "a\n",
      "n\n"
     ]
    }
   ],
   "source": [
    "mystr = \"banana\"   # if we take string which contains single element it will takes one one letter.\n",
    "myit = iter(mystr)\n",
    "\n",
    "print(next(myit))\n",
    "print(next(myit))\n",
    "print(next(myit))\n",
    "print(next(myit))\n",
    "print(next(myit))\n",
    " "
   ]
  },
  {
   "cell_type": "code",
   "execution_count": 25,
   "id": "43f40eeb",
   "metadata": {},
   "outputs": [
    {
     "name": "stdout",
     "output_type": "stream",
     "text": [
      "banana\n",
      "bun\n",
      "kun\n",
      "jun\n",
      "jhj\n"
     ]
    }
   ],
   "source": [
    "mystr = \"banana\",\"bun\",'kun','jun','jhj'   # WE HAVE 5 STRINGS SO IT IS TAKING ONE ONE STRING \n",
    "myit = iter(mystr)\n",
    "\n",
    "print(next(myit))\n",
    "print(next(myit))\n",
    "print(next(myit))\n",
    "print(next(myit))\n",
    "print(next(myit))\n",
    " "
   ]
  },
  {
   "cell_type": "code",
   "execution_count": null,
   "id": "a2bc97bc",
   "metadata": {},
   "outputs": [],
   "source": []
  }
 ],
 "metadata": {
  "kernelspec": {
   "display_name": "Python 3",
   "language": "python",
   "name": "python3"
  },
  "language_info": {
   "codemirror_mode": {
    "name": "ipython",
    "version": 3
   },
   "file_extension": ".py",
   "mimetype": "text/x-python",
   "name": "python",
   "nbconvert_exporter": "python",
   "pygments_lexer": "ipython3",
   "version": "3.8.8"
  }
 },
 "nbformat": 4,
 "nbformat_minor": 5
}
