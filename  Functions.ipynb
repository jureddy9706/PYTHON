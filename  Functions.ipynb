{
 "cells": [
  {
   "cell_type": "code",
   "execution_count": 5,
   "id": "79f81979",
   "metadata": {},
   "outputs": [
    {
     "name": "stdout",
     "output_type": "stream",
     "text": [
      "hii\n"
     ]
    }
   ],
   "source": [
    "num=24         # IF RASINAPPUDU : PETTALI\n",
    "if num>2:\n",
    "    print('hii') \n",
    "    "
   ]
  },
  {
   "cell_type": "code",
   "execution_count": 13,
   "id": "4404f505",
   "metadata": {},
   "outputs": [
    {
     "name": "stdout",
     "output_type": "stream",
     "text": [
      "56 53\n"
     ]
    }
   ],
   "source": [
    "lst=[1,2,3,4,5,6,7,8,9,10,12,13,14,15]\n",
    "even_sum=0\n",
    "odd_sum=0\n",
    "for i in lst:\n",
    "    if i%2==0:\n",
    "        even_sum=even_sum+i\n",
    "    else: odd_sum=odd_sum+i \n",
    "print(even_sum,odd_sum)        \n",
    "    "
   ]
  },
  {
   "cell_type": "code",
   "execution_count": 21,
   "id": "f4a3fb2d",
   "metadata": {},
   "outputs": [],
   "source": [
    "def add(num1,num2): # : IS COMPLUSARY TO DEFINE FUNCTION OR WHEN USING IF OR FOR\n",
    "    return num1 + num2  \n"
   ]
  },
  {
   "cell_type": "code",
   "execution_count": 22,
   "id": "ea6e0e6a",
   "metadata": {},
   "outputs": [
    {
     "data": {
      "text/plain": [
       "3"
      ]
     },
     "execution_count": 22,
     "metadata": {},
     "output_type": "execute_result"
    }
   ],
   "source": [
    "add(1,2)"
   ]
  },
  {
   "cell_type": "code",
   "execution_count": 44,
   "id": "01802c41",
   "metadata": {},
   "outputs": [],
   "source": [
    "def add_list(lst): \n",
    "    sum =0\n",
    "    for i in lst:\n",
    "        sum=sum+int(i)\n",
    "    return sum"
   ]
  },
  {
   "cell_type": "code",
   "execution_count": 46,
   "id": "080e51bb",
   "metadata": {},
   "outputs": [
    {
     "data": {
      "text/plain": [
       "6"
      ]
     },
     "execution_count": 46,
     "metadata": {},
     "output_type": "execute_result"
    }
   ],
   "source": [
    "add_list([1,2,3,])"
   ]
  },
  {
   "cell_type": "code",
   "execution_count": 102,
   "id": "e4178ffc",
   "metadata": {},
   "outputs": [],
   "source": [
    "def even_odd(num):\n",
    "    if i%2==0:\n",
    "        return \"The number {} is even\".format(num)\n",
    "    else:\n",
    "        return \"The number {} is odd\".format(num)"
   ]
  },
  {
   "cell_type": "code",
   "execution_count": 103,
   "id": "962f5246",
   "metadata": {},
   "outputs": [
    {
     "data": {
      "text/plain": [
       "'The number 10 is odd'"
      ]
     },
     "execution_count": 103,
     "metadata": {},
     "output_type": "execute_result"
    }
   ],
   "source": [
    "even_odd(10)"
   ]
  },
  {
   "cell_type": "code",
   "execution_count": null,
   "id": "7feb8981",
   "metadata": {},
   "outputs": [],
   "source": [
    "def employee_details(id,package):\n",
    "    return \"Id is {} and package is {}$\".format(id,package)"
   ]
  },
  {
   "cell_type": "code",
   "execution_count": null,
   "id": "eb7cca4e",
   "metadata": {},
   "outputs": [],
   "source": [
    "employee_details(\"bml\",100000)"
   ]
  },
  {
   "cell_type": "code",
   "execution_count": null,
   "id": "f17f7a6f",
   "metadata": {},
   "outputs": [],
   "source": [
    " def employee_details(Name):\n",
    "        print(Name)"
   ]
  },
  {
   "cell_type": "code",
   "execution_count": null,
   "id": "f8f4ec1c",
   "metadata": {},
   "outputs": [],
   "source": [
    "employee_details(\"huu\")"
   ]
  },
  {
   "cell_type": "markdown",
   "id": "3f540ac2",
   "metadata": {},
   "source": [
    "# lambda functions"
   ]
  },
  {
   "cell_type": "markdown",
   "id": "1bbb055d",
   "metadata": {},
   "source": [
    "A function without name"
   ]
  },
  {
   "cell_type": "code",
   "execution_count": 1,
   "id": "fdb79dff",
   "metadata": {},
   "outputs": [],
   "source": [
    "def name(i):\n",
    "    if i>0:\n",
    "        print('i is positive number')\n",
    "    else:\n",
    "        print(\"not positive\")"
   ]
  },
  {
   "cell_type": "code",
   "execution_count": 2,
   "id": "7c30acff",
   "metadata": {},
   "outputs": [
    {
     "name": "stdout",
     "output_type": "stream",
     "text": [
      "i is positive number\n"
     ]
    }
   ],
   "source": [
    "name(4)"
   ]
  },
  {
   "cell_type": "code",
   "execution_count": 4,
   "id": "0fb559e2",
   "metadata": {},
   "outputs": [],
   "source": [
    "positive= lambda a,b:a+b"
   ]
  },
  {
   "cell_type": "code",
   "execution_count": 5,
   "id": "9f25914a",
   "metadata": {},
   "outputs": [
    {
     "data": {
      "text/plain": [
       "3"
      ]
     },
     "execution_count": 5,
     "metadata": {},
     "output_type": "execute_result"
    }
   ],
   "source": [
    "positive(1,2)# we can write easily"
   ]
  },
  {
   "cell_type": "code",
   "execution_count": 6,
   "id": "11d11f9f",
   "metadata": {},
   "outputs": [],
   "source": [
    "hii=lambda i:i%2==0"
   ]
  },
  {
   "cell_type": "code",
   "execution_count": 7,
   "id": "248526bc",
   "metadata": {},
   "outputs": [
    {
     "data": {
      "text/plain": [
       "True"
      ]
     },
     "execution_count": 7,
     "metadata": {},
     "output_type": "execute_result"
    }
   ],
   "source": [
    "hii(12)"
   ]
  },
  {
   "cell_type": "code",
   "execution_count": 8,
   "id": "69f60e73",
   "metadata": {},
   "outputs": [],
   "source": [
    "def add(x,y,z):\n",
    "    return x+y*z # WE ARE WRITING CODE TWO LINES"
   ]
  },
  {
   "cell_type": "code",
   "execution_count": 9,
   "id": "25097d9e",
   "metadata": {},
   "outputs": [
    {
     "data": {
      "text/plain": [
       "7"
      ]
     },
     "execution_count": 9,
     "metadata": {},
     "output_type": "execute_result"
    }
   ],
   "source": [
    "add(1,2,3)"
   ]
  },
  {
   "cell_type": "code",
   "execution_count": 11,
   "id": "4281977e",
   "metadata": {},
   "outputs": [],
   "source": [
    "# to write code in one line\n",
    "k=lambda x,y,z:x+y*z"
   ]
  },
  {
   "cell_type": "code",
   "execution_count": 12,
   "id": "a99ec79f",
   "metadata": {},
   "outputs": [
    {
     "data": {
      "text/plain": [
       "7"
      ]
     },
     "execution_count": 12,
     "metadata": {},
     "output_type": "execute_result"
    }
   ],
   "source": [
    "k(1,2,3)"
   ]
  },
  {
   "cell_type": "markdown",
   "id": "dc44bfa2",
   "metadata": {},
   "source": [
    "# FILTER"
   ]
  },
  {
   "cell_type": "code",
   "execution_count": 29,
   "id": "6ee14336",
   "metadata": {},
   "outputs": [],
   "source": [
    "def even(num):\n",
    "    if num%2==0:\n",
    "        return num\n",
    "    else:\n",
    "         return \"ju\"\n",
    " "
   ]
  },
  {
   "cell_type": "code",
   "execution_count": 30,
   "id": "1e5377dd",
   "metadata": {},
   "outputs": [],
   "source": [
    "lst=[1,2,3,4,5,6,7,8,9]"
   ]
  },
  {
   "cell_type": "code",
   "execution_count": 31,
   "id": "3c03336e",
   "metadata": {},
   "outputs": [
    {
     "data": {
      "text/plain": [
       "[1, 2, 3, 4, 5, 6, 7, 8, 9]"
      ]
     },
     "execution_count": 31,
     "metadata": {},
     "output_type": "execute_result"
    }
   ],
   "source": [
    "list(filter(even,lst)) # FILTER IS used for filtering in numbers"
   ]
  },
  {
   "cell_type": "code",
   "execution_count": 32,
   "id": "c24432ec",
   "metadata": {},
   "outputs": [
    {
     "data": {
      "text/plain": [
       "['ju', 2, 'ju', 4, 'ju', 6, 'ju', 8, 'ju']"
      ]
     },
     "execution_count": 32,
     "metadata": {},
     "output_type": "execute_result"
    }
   ],
   "source": [
    "list(map(even,lst)) # MAP just gives the RETURN value"
   ]
  },
  {
   "cell_type": "markdown",
   "id": "e1b0b5ea",
   "metadata": {},
   "source": [
    "    LIST COMPREHENSION ([EXPRESSION,FOR LOOP, IF LOOP] # this is the order to listb comprehension"
   ]
  },
  {
   "cell_type": "code",
   "execution_count": 46,
   "id": "d7e624ec",
   "metadata": {
    "scrolled": true
   },
   "outputs": [],
   "source": [
    "lst=[1,2,3,4,5,6]    "
   ]
  },
  {
   "cell_type": "code",
   "execution_count": 48,
   "id": "c2fd74f7",
   "metadata": {},
   "outputs": [],
   "source": [
    "lst1=[i*i for i in lst] # THIS IS LIST COMPREHENSIOMN"
   ]
  },
  {
   "cell_type": "code",
   "execution_count": 49,
   "id": "75b5dbee",
   "metadata": {},
   "outputs": [
    {
     "name": "stdout",
     "output_type": "stream",
     "text": [
      "[1, 4, 9, 16, 25, 36]\n"
     ]
    }
   ],
   "source": [
    "print(lst1)"
   ]
  },
  {
   "cell_type": "code",
   "execution_count": 52,
   "id": "49196884",
   "metadata": {},
   "outputs": [],
   "source": [
    "lst2=[i*i for i in lst if i%2==0]"
   ]
  },
  {
   "cell_type": "code",
   "execution_count": 53,
   "id": "edee5903",
   "metadata": {},
   "outputs": [
    {
     "name": "stdout",
     "output_type": "stream",
     "text": [
      "[4, 16, 36]\n"
     ]
    }
   ],
   "source": [
    "print(lst2)"
   ]
  },
  {
   "cell_type": "code",
   "execution_count": null,
   "id": "944551ab",
   "metadata": {},
   "outputs": [],
   "source": []
  }
 ],
 "metadata": {
  "kernelspec": {
   "display_name": "Python 3",
   "language": "python",
   "name": "python3"
  },
  "language_info": {
   "codemirror_mode": {
    "name": "ipython",
    "version": 3
   },
   "file_extension": ".py",
   "mimetype": "text/x-python",
   "name": "python",
   "nbconvert_exporter": "python",
   "pygments_lexer": "ipython3",
   "version": "3.8.8"
  }
 },
 "nbformat": 4,
 "nbformat_minor": 5
}
