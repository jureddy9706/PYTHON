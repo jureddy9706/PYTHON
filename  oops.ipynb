{
 "cells": [
  {
   "cell_type": "markdown",
   "id": "e92b0f12",
   "metadata": {},
   "source": [
    "Like other languages (for example, method overloading in C++) do, python does not support method overloading by default. But there are different ways to achieve method overloading in Python. \n",
    "\n",
    "The problem with method overloading in Python is that we may overload the methods but can only use the latest defined method. "
   ]
  },
  {
   "cell_type": "code",
   "execution_count": 9,
   "id": "6d51b0ec",
   "metadata": {},
   "outputs": [],
   "source": [
    "def name(name):\n",
    "    print(name)\n",
    "def name(name,shame):\n",
    "    print(name,shame)    "
   ]
  },
  {
   "cell_type": "code",
   "execution_count": 10,
   "id": "5758830d",
   "metadata": {},
   "outputs": [
    {
     "ename": "TypeError",
     "evalue": "name() missing 1 required positional argument: 'shame'",
     "output_type": "error",
     "traceback": [
      "\u001b[1;31m---------------------------------------------------------------------------\u001b[0m",
      "\u001b[1;31mTypeError\u001b[0m                                 Traceback (most recent call last)",
      "\u001b[1;32m<ipython-input-10-6df5cc169843>\u001b[0m in \u001b[0;36m<module>\u001b[1;34m\u001b[0m\n\u001b[1;32m----> 1\u001b[1;33m \u001b[0mname\u001b[0m\u001b[1;33m(\u001b[0m\u001b[1;34m'hii'\u001b[0m\u001b[1;33m)\u001b[0m\u001b[1;33m\u001b[0m\u001b[1;33m\u001b[0m\u001b[0m\n\u001b[0m",
      "\u001b[1;31mTypeError\u001b[0m: name() missing 1 required positional argument: 'shame'"
     ]
    }
   ],
   "source": [
    "name('hii') # IF WE TRY TO DO METHOD OVERLOADING IT TAKES THE RECENT METHOD given like the below cell"
   ]
  },
  {
   "cell_type": "code",
   "execution_count": 11,
   "id": "1f62a04a",
   "metadata": {},
   "outputs": [
    {
     "name": "stdout",
     "output_type": "stream",
     "text": [
      "hii shame\n"
     ]
    }
   ],
   "source": [
    "name('hii','shame')"
   ]
  },
  {
   "cell_type": "code",
   "execution_count": 1,
   "id": "7b0ad917",
   "metadata": {},
   "outputs": [
    {
     "ename": "NameError",
     "evalue": "name 'dog' is not defined",
     "output_type": "error",
     "traceback": [
      "\u001b[1;31m---------------------------------------------------------------------------\u001b[0m",
      "\u001b[1;31mNameError\u001b[0m                                 Traceback (most recent call last)",
      "\u001b[1;32m<ipython-input-1-ad348024ec49>\u001b[0m in \u001b[0;36m<module>\u001b[1;34m\u001b[0m\n\u001b[1;32m----> 1\u001b[1;33m \u001b[1;32mclass\u001b[0m \u001b[0mdog\u001b[0m\u001b[1;33m(\u001b[0m\u001b[1;33m)\u001b[0m\u001b[1;33m:\u001b[0m\u001b[1;33m\u001b[0m\u001b[1;33m\u001b[0m\u001b[0m\n\u001b[0m\u001b[0;32m      2\u001b[0m     \u001b[1;32mdef\u001b[0m \u001b[0minit_\u001b[0m\u001b[1;33m(\u001b[0m\u001b[0mself\u001b[0m\u001b[1;33m,\u001b[0m\u001b[0mbreed\u001b[0m\u001b[1;33m)\u001b[0m\u001b[1;33m:\u001b[0m\u001b[1;33m\u001b[0m\u001b[1;33m\u001b[0m\u001b[0m\n\u001b[0;32m      3\u001b[0m         \u001b[0mself\u001b[0m\u001b[1;33m.\u001b[0m\u001b[0mbreed\u001b[0m\u001b[1;33m=\u001b[0m\u001b[0mbreed\u001b[0m\u001b[1;33m\u001b[0m\u001b[1;33m\u001b[0m\u001b[0m\n\u001b[0;32m      4\u001b[0m     \u001b[1;32mdef\u001b[0m \u001b[0msetcolor\u001b[0m\u001b[1;33m(\u001b[0m\u001b[0mcolor\u001b[0m\u001b[1;33m)\u001b[0m\u001b[1;33m:\u001b[0m\u001b[1;33m\u001b[0m\u001b[1;33m\u001b[0m\u001b[0m\n\u001b[0;32m      5\u001b[0m         \u001b[1;32mreturn\u001b[0m \u001b[0mcolor\u001b[0m\u001b[1;33m\u001b[0m\u001b[1;33m\u001b[0m\u001b[0m\n",
      "\u001b[1;32m<ipython-input-1-ad348024ec49>\u001b[0m in \u001b[0;36mdog\u001b[1;34m()\u001b[0m\n\u001b[0;32m      4\u001b[0m     \u001b[1;32mdef\u001b[0m \u001b[0msetcolor\u001b[0m\u001b[1;33m(\u001b[0m\u001b[0mcolor\u001b[0m\u001b[1;33m)\u001b[0m\u001b[1;33m:\u001b[0m\u001b[1;33m\u001b[0m\u001b[1;33m\u001b[0m\u001b[0m\n\u001b[0;32m      5\u001b[0m         \u001b[1;32mreturn\u001b[0m \u001b[0mcolor\u001b[0m\u001b[1;33m\u001b[0m\u001b[1;33m\u001b[0m\u001b[0m\n\u001b[1;32m----> 6\u001b[1;33m     \u001b[0mrodge\u001b[0m\u001b[1;33m=\u001b[0m\u001b[0mdog\u001b[0m\u001b[1;33m(\u001b[0m\u001b[1;34m\"pug\"\u001b[0m\u001b[1;33m)\u001b[0m\u001b[1;33m\u001b[0m\u001b[1;33m\u001b[0m\u001b[0m\n\u001b[0m",
      "\u001b[1;31mNameError\u001b[0m: name 'dog' is not defined"
     ]
    }
   ],
   "source": [
    "class dog():\n",
    "    def init_(self,breed):\n",
    "        self.breed=breed\n",
    "    def setcolor(color):\n",
    "        return color\n",
    "    rodge=dog(\"pug\")"
   ]
  },
  {
   "cell_type": "code",
   "execution_count": null,
   "id": "ccae72f9",
   "metadata": {},
   "outputs": [],
   "source": []
  }
 ],
 "metadata": {
  "kernelspec": {
   "display_name": "Python 3",
   "language": "python",
   "name": "python3"
  },
  "language_info": {
   "codemirror_mode": {
    "name": "ipython",
    "version": 3
   },
   "file_extension": ".py",
   "mimetype": "text/x-python",
   "name": "python",
   "nbconvert_exporter": "python",
   "pygments_lexer": "ipython3",
   "version": "3.8.8"
  }
 },
 "nbformat": 4,
 "nbformat_minor": 5
}
